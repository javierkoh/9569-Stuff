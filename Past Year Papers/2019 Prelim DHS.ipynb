{
 "cells": [
  {
   "cell_type": "markdown",
   "source": [
    "# Q1\n",
    "## Task 1.1"
   ],
   "metadata": {}
  },
  {
   "cell_type": "code",
   "execution_count": 1,
   "source": [
    "import csv\n",
    "with open(\"IOI19.TXT\", \"r\") as f:\n",
    "    reader = csv.reader(f)\n",
    "    data = [row for row in reader]\n",
    "    data = data[1:]\n",
    "\n",
    "for i in data:\n",
    "    i[4] = float(i[4])\n",
    "\n",
    "team_medal = {i[3]:\"\" for i in data}\n",
    "for i in data:\n",
    "    if i[5] == \"G\":\n",
    "        x = \"A\"\n",
    "    elif i[5] == \"S\":\n",
    "        x = \"B\"\n",
    "    elif i[5] == \"B\":\n",
    "        x = \"C\"\n",
    "    elif i[5] == \"P\":\n",
    "        x = \"D\"\n",
    "    team_medal[i[3]] = team_medal[i[3]] + x\n",
    "\n",
    "def second_item(x):\n",
    "    return x[1]\n",
    "team_medal_s = {k: v for k, v in sorted(team_medal.items(), key=second_item)} # sort by value\n",
    "\n",
    "print(\"Top 3 teams:\")\n",
    "counter = 0\n",
    "it = 0\n",
    "last_item = \"\"\n",
    "medal_lst = []\n",
    "\n",
    "for i in team_medal_s:\n",
    "    it += 1\n",
    "    medal_num = {\"G\":team_medal_s[i].count(\"A\"),\n",
    "        \"S\":team_medal_s[i].count(\"B\"),\n",
    "        \"B\":team_medal_s[i].count(\"C\"),\n",
    "        \"P\":team_medal_s[i].count(\"D\")}\n",
    "    newstr = \"\"\n",
    "    for x in medal_num:\n",
    "        if medal_num[x] != 0:\n",
    "            newstr = newstr + str(medal_num[x]) + x\n",
    "\n",
    "    medal_lst.append(newstr)\n",
    "    if len(set(medal_lst)) > 3:\n",
    "        break\n",
    "    \n",
    "    if team_medal_s[i] != last_item:\n",
    "        counter = it\n",
    "        last_item = team_medal_s[i]\n",
    "        print(f\"{it} {i} {newstr}\")\n",
    "    else:\n",
    "        print(f\"{counter} {i} {newstr}\")"
   ],
   "outputs": [
    {
     "output_type": "stream",
     "name": "stdout",
     "text": [
      "Top 3 teams:\n",
      "1 RUS 4G\n",
      "2 USA 3G1S\n",
      "2 CHN 3G1S\n",
      "4 KOR 2G1S1B\n",
      "4 VNM 2G1S1B\n"
     ]
    }
   ],
   "metadata": {}
  },
  {
   "cell_type": "markdown",
   "source": [
    "## Task 1.2"
   ],
   "metadata": {}
  },
  {
   "cell_type": "code",
   "execution_count": 4,
   "source": [
    "while True:\n",
    "    team = input(\"Enter team (or ZZZ to quit): \")\n",
    "    if team == \"ZZZ\":\n",
    "        break\n",
    "\n",
    "    for i in data:\n",
    "        if i[3] == team:\n",
    "            print(f\"{i[1]} {i[2]}\\t{i[5]}\")"
   ],
   "outputs": [
    {
     "output_type": "stream",
     "name": "stdout",
     "text": [
      "Eu-Shaun Leong\tG\n",
      "Lee Jeffrey Chun Hean\tS\n",
      "Benson Zhan Li Lin\tB\n",
      "Daniel Zhenghao Choo\tP\n"
     ]
    }
   ],
   "metadata": {}
  },
  {
   "cell_type": "markdown",
   "source": [
    "# Q2\n",
    "## Task 2.1"
   ],
   "metadata": {}
  },
  {
   "cell_type": "code",
   "execution_count": 15,
   "source": [
    "with open(\"SGQR.TXT\", \"r\") as f:\n",
    "    data = f.read().splitlines()\n",
    "\n",
    "data = data[0]\n",
    "last_item = data[len(data)-9:]\n",
    "print(last_item)\n",
    "\n",
    "# according to emvco-merchant-presented-qr-specification-v1-1.pdf page 21, id of 63 refers to CRC and length is always 04"
   ],
   "outputs": [
    {
     "output_type": "stream",
     "name": "stdout",
     "text": [
      "63054F63A\n"
     ]
    }
   ],
   "metadata": {}
  },
  {
   "cell_type": "markdown",
   "source": [
    "## Task 2.2"
   ],
   "metadata": {}
  },
  {
   "cell_type": "code",
   "execution_count": 21,
   "source": [
    "nums = {0:\"0\",1:\"1\",2:\"2\",3:\"3\",4:\"4\",5:\"5\",6:\"6\",7:\"7\",8:\"8\",9:\"9\",10:\"A\",11:\"B\",12:\"C\",13:\"D\",14:\"E\",15:\"F\"}\n",
    "nums_inv = {v: k for k, v in nums.items()}\n",
    "\n",
    "def hex_to_den(n):\n",
    "    max_power = len(n)-1\n",
    "    total = 0\n",
    "    for i in n:\n",
    "        total += nums_inv[i]*(16**max_power)\n",
    "        max_power -= 1\n",
    "    return total\n",
    "def den_to_oct(n):\n",
    "    s = \"\"\n",
    "    while n > 0:\n",
    "        s = s + nums[n%8]\n",
    "        n = n//8\n",
    "    return s[::-1] # reverse\n",
    "\n",
    "def hex2oct(n):\n",
    "    return den_to_oct(hex_to_den(n))\n",
    "\n",
    "print(hex2oct(\"4F63A\"))"
   ],
   "outputs": [
    {
     "output_type": "stream",
     "name": "stdout",
     "text": [
      "1173072\n"
     ]
    }
   ],
   "metadata": {}
  },
  {
   "cell_type": "markdown",
   "source": [
    "# Q4\n",
    "## Task 4.1"
   ],
   "metadata": {}
  },
  {
   "cell_type": "code",
   "execution_count": 48,
   "source": [
    "def integral_image():\n",
    "    with open(\"IMAGE1.IN\", \"r\") as f:\n",
    "        data = f.read().splitlines()\n",
    "\n",
    "    image = []\n",
    "    for i in data:\n",
    "        image.append([int(j) for j in i.split()])\n",
    "    \n",
    "    summed = [[0,0,0,0],[0,0,0,0],[0,0,0,0],[0,0,0,0]]\n",
    "    for i in range(len(image)):\n",
    "        for j in range(len(image[i])):\n",
    "            summed[i][j] = sum([ image[a][b] for a in range(len(image)) for b in range(len(image[a])) if a<=i and b<=j ])\n",
    "\n",
    "    with open(\"IMAGE1.OUT\", \"w\") as f:\n",
    "        for i in summed:\n",
    "            for j in i:\n",
    "                if len(str(j)) == 1:\n",
    "                    f.write(f\" {j} \")\n",
    "                else:\n",
    "                    f.write(f\"{j} \")\n",
    "            f.write(\"\\n\")\n",
    "\n",
    "    dbca = summed[3][3] - summed[1][3] - summed[3][1] + summed[1][1]\n",
    "    print(f\"D - B - C + A = {dbca}\")\n",
    "\n",
    "integral_image()"
   ],
   "outputs": [
    {
     "output_type": "stream",
     "name": "stdout",
     "text": [
      "D - B - C + A = 41\n"
     ]
    }
   ],
   "metadata": {}
  },
  {
   "cell_type": "markdown",
   "source": [
    "## Task 4.2"
   ],
   "metadata": {}
  },
  {
   "cell_type": "code",
   "execution_count": 1,
   "source": [
    "import random\n",
    "def magic(m,n):\n",
    "    # generate random image\n",
    "    image = []\n",
    "    for i in range(m):\n",
    "        tmp = []\n",
    "        for j in range(n):\n",
    "            tmp.append(random.randint(0,99))\n",
    "        image.append(tmp)\n",
    "\n",
    "    # write to IMAGE2.IN\n",
    "    def write(data, filename):\n",
    "        with open(filename, \"w\") as f:\n",
    "            for i in data:\n",
    "                for j in i:\n",
    "                    f.write(f\"{j}\\t\")\n",
    "                f.write(\"\\n\")\n",
    "    write(image, \"IMAGE2.IN\")\n",
    "\n",
    "    # read from IMAGE2.IN\n",
    "    with open(\"IMAGE2.IN\", \"r\") as f:\n",
    "        data = f.read().splitlines()\n",
    "    image = []\n",
    "    for i in data:\n",
    "        image.append([int(j) for j in i.split()])\n",
    "\n",
    "    # calculate integral image\n",
    "    summed = [[0 for i in range(n)] for j in range(m)]\n",
    "    for i in range(len(image)):\n",
    "        for j in range(len(image[i])):\n",
    "            summed[i][j] = sum([ image[a][b] for a in range(len(image)) for b in range(len(image[a])) if a<=i and b<=j ])\n",
    "\n",
    "    # write to IMAGE2.OUT\n",
    "    write(summed, \"IMAGE2.OUT\")\n",
    "\n",
    "    # calculate and print D-B-C+A\n",
    "    m -= 1 # so my index works\n",
    "    n -= 1 # so my index works\n",
    "    dbca = summed[m][n] - summed[m-2][n] - summed[m][n-2] + summed[m-2][n-2]\n",
    "    print(f\"D - B - C + A = {dbca}\")\n",
    "magic(8,9)"
   ],
   "outputs": [
    {
     "output_type": "stream",
     "name": "stdout",
     "text": [
      "D - B - C + A = 269\n"
     ]
    }
   ],
   "metadata": {}
  }
 ],
 "metadata": {
  "orig_nbformat": 4,
  "language_info": {
   "name": "python",
   "version": "3.9.7",
   "mimetype": "text/x-python",
   "codemirror_mode": {
    "name": "ipython",
    "version": 3
   },
   "pygments_lexer": "ipython3",
   "nbconvert_exporter": "python",
   "file_extension": ".py"
  },
  "kernelspec": {
   "name": "python3",
   "display_name": "Python 3.9.6 64-bit"
  },
  "interpreter": {
   "hash": "b0fa6594d8f4cbf19f97940f81e996739fb7646882a419484c72d19e05852a7e"
  }
 },
 "nbformat": 4,
 "nbformat_minor": 2
}