{
 "cells": [
  {
   "cell_type": "markdown",
   "source": [
    "# Q1\n",
    "## Task 1.1"
   ],
   "metadata": {}
  },
  {
   "cell_type": "code",
   "execution_count": 18,
   "source": [
    "import csv\n",
    "with open(\"HEIGHTDATA.TXT\", \"r\") as f:\n",
    "    reader = csv.reader(f)\n",
    "    data = [row for row in reader]\n",
    "\n",
    "for i in data:\n",
    "    i[1] = int(i[1])\n",
    "    i[2] = int(i[2])\n",
    "\n",
    "def in_normal_range(age, ht):\n",
    "    min_ht = 5.3*age+71\n",
    "    max_ht = 6.2*age+87\n",
    "    if ht >= min_ht and ht <= max_ht:\n",
    "        return True\n",
    "    else:\n",
    "        return False\n",
    "\n",
    "print(\"Name\\tAge\\tHeight\\tWithin normal range\")\n",
    "for i in data:\n",
    "    x = \"Yes\" if in_normal_range(i[1],i[2]) else \"No\"\n",
    "    print(f\"{i[0]}\\t{i[1]}\\t{i[2]}\\t{x}\")"
   ],
   "outputs": [
    {
     "output_type": "stream",
     "name": "stdout",
     "text": [
      "Name\tAge\tHeight\tWithin normal range\n",
      "Max\t5\t102\tYes\n",
      "John\t8\t121\tYes\n",
      "Ken\t15\t106\tNo\n",
      "Mark\t4\t510\tNo\n",
      "Jason\t12\t144\tYes\n",
      "Rick\t13\t415\tNo\n",
      "Ali\t6\t105\tYes\n",
      "Bob\t10\t145\tYes\n",
      "Charlie\t15\t185\tNo\n",
      "Denver\t5\t111\tYes\n",
      "Berlin\t7\t121\tYes\n",
      "Rio\t15\t161\tYes\n",
      "Jared\t11\t142\tYes\n",
      "Patrick\t14\t157\tYes\n",
      "Ben\t10\t141\tYes\n",
      "Fred\t13\t164\tYes\n",
      "Tim\t5\t116\tYes\n",
      "Ethan\t7\t131\tNo\n",
      "Dave\t12\t161\tYes\n",
      "Jonathan\t10\t125\tYes\n"
     ]
    }
   ],
   "metadata": {}
  },
  {
   "cell_type": "markdown",
   "source": [
    "## Task 1.2"
   ],
   "metadata": {}
  },
  {
   "cell_type": "code",
   "execution_count": 23,
   "source": [
    "print(\"Name\\tAge\\tHeight\\tCorrected Height\")\n",
    "for i in data:\n",
    "    if not in_normal_range(i[1],i[2]):\n",
    "        ht = str(i[2])\n",
    "        corrected = [\n",
    "            ht[0]+ht[2]+ht[1],\n",
    "            ht[1]+ht[0]+ht[2],\n",
    "            ht[2]+ht[1]+ht[0]\n",
    "        ]\n",
    "        bools = [in_normal_range(i[1],int(j)) for j in corrected]\n",
    "        if bools.count(True) == 1:\n",
    "            fixed = corrected[bools.index(True)]\n",
    "        else: # more than one possible or no possible ht\n",
    "            fixed = \"Re-enter data\"\n",
    "        print(f\"{i[0]}\\t{i[1]}\\t{i[2]}\\t{fixed}\")"
   ],
   "outputs": [
    {
     "output_type": "stream",
     "name": "stdout",
     "text": [
      "Name\tAge\tHeight\tCorrected Height\n",
      "Ken\t15\t106\t160\n",
      "Mark\t4\t510\tRe-enter data\n",
      "Rick\t13\t415\t145\n",
      "Charlie\t15\t185\t158\n",
      "Ethan\t7\t131\t113\n"
     ]
    }
   ],
   "metadata": {}
  },
  {
   "cell_type": "markdown",
   "source": [
    "# Q2\n",
    "## Task 2.1"
   ],
   "metadata": {}
  },
  {
   "cell_type": "code",
   "execution_count": 53,
   "source": [
    "def BinarySearch(lst, item):\n",
    "    start = 0\n",
    "    end = len(lst)-1\n",
    "    list_of_words = set()\n",
    "    while start <= end:\n",
    "        mid = (start+end)//2\n",
    "        if item == lst[mid]:\n",
    "            return mid, list_of_words\n",
    "        if item < lst[mid]:\n",
    "            end = mid - 1\n",
    "            list_of_words.update(lst[start:end])\n",
    "        else:\n",
    "            start = mid + 1\n",
    "            list_of_words.update(lst[start:end])\n",
    "    return -1\n",
    "\n",
    "with open(\"1000WORDS.TXT\", \"r\", encoding=\"latin-1\") as f:\n",
    "    data = f.read().splitlines()\n",
    "dataset = [i.replace(\"\\x92\",\"'\") for i in data]\n",
    "\n",
    "print(BinarySearch(dataset, \"WORD\"))\n",
    "print(BinarySearch(dataset, \"WORDA\"))\n",
    "print(BinarySearch(dataset, \"TRADE\"))"
   ],
   "outputs": [
    {
     "output_type": "stream",
     "name": "stdout",
     "text": [
      "(980, {'RISE', 'WHY', 'SUBJECT', 'WORLD', 'WIRE', 'THIRD', 'WHEELS', 'SUMMER', 'PROVIDE', 'REST', 'UPON', 'SOMETIMES', 'SELL', 'TEST', 'MATCH', 'SQUARE', 'RETURN', 'SIMPLE', 'OF', 'UP', \"WOULDN'T\", 'MOTHER', 'USE', 'WITH', 'WAR', 'MAN', 'STRANGE', 'REGION', 'MONTHS', 'THERE', 'SLEEP', 'SYMBOLS', 'WHAT', 'THREE', 'UNDERLINE', 'YEAR', 'SMILED', 'STRAIGHT', 'TOWARD', 'STORE', 'TRIANGLE', 'SCIENCE', 'WITHIN', 'ONLY', 'REALLY', 'MODERN', 'RIGHT', 'ROLLED', 'OXYGEN', 'TONE', 'SISTER', 'NOUN', 'MEASURE', 'OPEN', 'SOLVE', 'SWIM', \"YOU'RE\", 'NORTHERN', 'MATERIAL', 'MAY', 'SIMILAR', 'MIND', 'ROSE', 'SOMEONE', 'OUT', 'QUICKLY', \"WON'T\", 'THIN', 'PRACTICE', 'SOUTHERN', 'SAW', 'TAIL', 'SIGHT', 'THESE', 'SEPARATE', 'NUMBER', 'TRAIN', 'SECTION', 'QUESTION', 'PLACE', 'STILL', 'POSSIBLE', 'NOR', 'NEED', 'WHERE', 'PEOPLE', 'MELODY', 'OCEAN', 'SPRING', 'UNIT', 'WINDOW', 'SENT', 'OWN', 'NORTH', 'TEACHER', 'ON', 'SLOWLY', \"WE'LL\", 'TRIP', 'PLAINS', 'SPELL', 'RESULT', 'SIZE', 'WORK', 'SYLLABLES', 'READ', 'REMAIN', 'PRETTY', 'TOOK', 'POWER', 'MOUTH', 'TOO', 'OR', 'TIME', 'MISS', 'THUS', 'MUCH', 'WIFE', 'WHICH', 'WHETHER', 'TYPE', 'WEST', 'OFFICE', 'SEA', 'PRODUCTS', 'SCORE', 'QUITE', 'SPECIAL', 'STATE', 'STRONG', 'TINY', 'THINK', 'SEEDS', 'WEIGHT', 'UNTIL', 'SUM', 'REPEATED', 'OUR', 'TOUCH', 'USUALLY', 'WHEN', 'REASON', 'TROUBLE', 'SIT', 'MOVEMENT', 'PUSHED', 'SHAPE', 'PAGE', 'VILLAGE', 'WRITTEN', 'WOOD', 'POOR', 'THOSE', 'RHYTHM', 'MEAN', 'SUGAR', 'SPEED', 'SEAT', 'NEW', 'MAJOR', 'THOUGH', 'PERIOD', 'WALK', 'SEVERAL', 'WHO', 'LOW', 'MAKE', 'VALUE', 'PARTY', 'SIGN', 'SAFE', 'SOUND', 'US', 'WISH', 'PROPERTY', 'MAIN', 'THAN', 'PLANE', 'MORE', 'STOP', 'MADE', 'PLAN', 'PAY', 'MIGHT', 'OFF', 'THOUSANDS', 'WOMAN', 'SHOWN', 'SOLUTION', 'TALK', 'THING', 'ONE', 'WOULD', 'RAIN', 'SUPPLY', 'SONG', 'PIECE', 'POUNDS', 'THEN', 'STREAM', 'WARM', 'SHE', 'SPEAK', 'POLE', 'PROBLEM', 'NATION', 'PLANT', 'NOTE', 'MATTER', 'SMELL', 'WERE', 'PARTICULAR', 'OLD', 'POSITION', 'NECESSARY', 'WRITE', 'WIN', 'WINGS', 'OFTEN', 'NAME', 'TALL', 'NEXT', 'PLAY', 'WILD', 'SINGLE', 'PERSON', 'NOT', 'STEP', 'RECEIVED', 'THEY', 'MY', 'PASSED', 'SUGGESTED', 'VALLEY', 'TRADE', 'ROOT', 'PARK', 'SEEM', 'WHOSE', 'SPREAD', 'YELLOW', 'SUFFIX', 'RECORD', 'TURN', 'NO', 'PAIR', 'OH', 'NEAR', 'PAPER', 'NUMERAL', 'MEAT', 'TEAM', 'YOU', 'REPRESENT', 'TRUE', 'WROTE', 'RING', 'RIDE', 'RICH', 'PRODUCE', 'WASH', 'SUCH', 'SUDDENLY', 'STREET', 'RUN', 'SEE', 'WATER', 'RATHER', 'OBSERVE', 'PAST', 'WORKERS', 'PLANETS', 'SHOW', 'WAIT', 'ONCE', 'WAVES', 'SCHOOL', 'STICK', 'VIEW', 'WASHINGTON', 'STRETCHED', 'SILENT', 'SOME', 'RACE', 'SHOES', 'MIDDLE', 'POEM', 'MILE', 'ROUND', 'MAP', 'SHOUTED', 'WHITE', 'SAY', 'STOOD', 'MOUNTAIN', 'RULE', 'TRUCK', 'THEIR', 'MOON', 'SEVEN', 'SHIP', 'TIED', 'SAVE', 'NOSE', 'MARK', 'PART', 'PICKED', 'TOP', 'SUN', 'NOTICE', 'RAISED', 'YOUNG', 'QUIET', 'MOST', 'PRESIDENT', 'OBJECT', 'MARCH', 'SETTLED', 'SAND', 'MILK', 'TERMS', 'RAN', 'PULLED', 'SURPRISE', 'MEMBERS', 'MONEY', 'SPACE', 'WHOLE', 'REMEMBER', 'WEAR', 'WIND', 'YOUR', 'SON', 'TUBE', 'STUDY', 'PLEASE', 'WANT', 'SUBSTANCES', 'STATEMENT', 'SAID', 'THICK', 'SOFT', 'SIDE', 'PERHAPS', 'SAME', 'WOMEN', 'WELL', 'VOWEL', 'PRINTED', 'NOTHING', 'TRAVEL', 'NOW', 'SHORT', 'MINE', 'WAS', 'WENT', 'UNDERSTAND', 'SEND', 'OIL', 'REPORT', 'METAL', 'WALL', 'SING', 'OPPOSITE', 'SKY', 'NEVER', 'WINTER', 'MAYBE', 'SAT', 'PHRASE', 'SOON', 'STAND', 'SUPPOSE', 'SO', 'PATTERN', 'WIDE', 'PAINT', 'STAY', 'WHILE', 'MEET', 'SURE', 'ME', 'THEM', 'TO', 'ROOM', 'WE', 'SHOP', 'VOICE', 'ORDER', 'WEEK', 'THAT', 'TOLD', 'MORNING', 'WILL', 'PUT', 'SNOW', 'SOMETHING', 'START', 'NATURAL', 'SET', 'SIR', 'THIS', 'NIGHT', 'TREE', 'OUTSIDE', 'VARIOUS', 'MUSIC', 'TELL', 'MACHINE', 'SHALL', 'TWO', 'SKIN', 'ROCK', 'SYSTEM', 'MOLECULES', 'PRESENT', 'REACHED', 'THOUGHT', 'TOOLS', 'ROPE', 'TRACK', 'STRING', 'WEATHER', 'WESTERN', 'THEMSELVES', 'TODAY', 'SHARP', 'WONDER', 'SCALE', 'THROUGH', 'STUDENTS', 'OVER', 'OTHER', 'PICTURE', 'YET', 'TEMPERATURE', 'TABLE', 'WAY', 'ROAD', 'WITHOUT', 'TOTAL', 'WORD', 'WATCH', 'PLURAL', 'MINUTES', 'VERY', 'METHOD', 'STONE', 'TRY', 'STARS', 'VERB', 'PREPARED', 'STORY', 'SHOULDER', 'SERVE', 'UNCLE', 'READY', 'RIVER', 'POINT', 'VISIT', 'TOWN', 'UNDER', 'MILLION', 'MEN', 'SINCE', 'MOMENT', 'TEN', 'STEEL', 'WRONG', 'MOVE', 'RADIO', 'SIX', 'SENSE', 'SHOULD', 'YES', 'SURFACE', \"WASN'T\", 'RED', 'SAIL', 'PER', 'ROW', 'SPOT', 'SOIL', 'MUST', 'SECOND', 'SMALL', 'SCIENTISTS', 'SOLDIERS', 'MANY', 'PARAGRAPH', 'PROBABLY', 'TOGETHER', 'SEEN', 'YARD', 'THE', 'SENTENCE', 'PROCESS', 'SOUTH', 'TAKE'})\n",
      "-1\n",
      "(889, {'RISE', 'WHY', 'SUBJECT', 'WORLD', 'WIRE', 'THIRD', 'WHEELS', 'SUMMER', 'PROVIDE', 'REST', 'UPON', 'SOMETIMES', 'SELL', 'TEST', 'MATCH', 'SQUARE', 'RETURN', 'SIMPLE', 'OF', 'UP', \"WOULDN'T\", 'MOTHER', 'USE', 'WITH', 'WAR', 'MAN', 'STRANGE', 'REGION', 'MONTHS', 'THERE', 'SLEEP', 'SYMBOLS', 'WHAT', 'THREE', 'UNDERLINE', 'YEAR', 'SMILED', 'STRAIGHT', 'TOWARD', 'STORE', 'TRIANGLE', 'SCIENCE', 'WITHIN', 'ONLY', 'REALLY', 'MODERN', 'RIGHT', 'ROLLED', 'OXYGEN', 'TONE', 'SISTER', 'NOUN', 'MEASURE', 'OPEN', 'SOLVE', 'SWIM', \"YOU'RE\", 'NORTHERN', 'MATERIAL', 'MAY', 'SIMILAR', 'MIND', 'ROSE', 'SOMEONE', 'OUT', 'QUICKLY', \"WON'T\", 'THIN', 'PRACTICE', 'SOUTHERN', 'SAW', 'TAIL', 'SIGHT', 'THESE', 'SEPARATE', 'NUMBER', 'TRAIN', 'SECTION', 'QUESTION', 'PLACE', 'STILL', 'POSSIBLE', 'NOR', 'NEED', 'WHERE', 'PEOPLE', 'MELODY', 'OCEAN', 'SPRING', 'UNIT', 'WINDOW', 'SENT', 'OWN', 'NORTH', 'TEACHER', 'ON', 'SLOWLY', \"WE'LL\", 'TRIP', 'PLAINS', 'SPELL', 'RESULT', 'SIZE', 'WORK', 'SYLLABLES', 'READ', 'REMAIN', 'PRETTY', 'TOOK', 'POWER', 'MOUTH', 'TOO', 'OR', 'TIME', 'MISS', 'THUS', 'MUCH', 'WIFE', 'WHICH', 'WHETHER', 'TYPE', 'WEST', 'OFFICE', 'SEA', 'PRODUCTS', 'SCORE', 'QUITE', 'SPECIAL', 'STATE', 'STRONG', 'TINY', 'THINK', 'SEEDS', 'WEIGHT', 'UNTIL', 'SUM', 'REPEATED', 'OUR', 'TOUCH', 'USUALLY', 'WHEN', 'REASON', 'TROUBLE', 'SIT', 'MOVEMENT', 'PUSHED', 'SHAPE', 'PAGE', 'VILLAGE', 'WRITTEN', 'WOOD', 'POOR', 'THOSE', 'RHYTHM', 'MEAN', 'SUGAR', 'SPEED', 'SEAT', 'NEW', 'MAJOR', 'THOUGH', 'PERIOD', 'WALK', 'SEVERAL', 'WHO', 'LOW', 'MAKE', 'VALUE', 'PARTY', 'SIGN', 'SAFE', 'SOUND', 'US', 'WISH', 'PROPERTY', 'MAIN', 'THAN', 'PLANE', 'MORE', 'STOP', 'MADE', 'PLAN', 'PAY', 'MIGHT', 'OFF', 'THOUSANDS', 'WOMAN', 'SHOWN', 'SOLUTION', 'TALK', 'THING', 'ONE', 'WOULD', 'RAIN', 'SUPPLY', 'SONG', 'PIECE', 'POUNDS', 'THEN', 'STREAM', 'WARM', 'SHE', 'SPEAK', 'POLE', 'PROBLEM', 'NATION', 'PLANT', 'NOTE', 'MATTER', 'SMELL', 'WERE', 'PARTICULAR', 'OLD', 'POSITION', 'NECESSARY', 'WRITE', 'WIN', 'WINGS', 'OFTEN', 'NAME', 'TALL', 'NEXT', 'PLAY', 'WILD', 'SINGLE', 'PERSON', 'NOT', 'STEP', 'RECEIVED', 'THEY', 'MY', 'PASSED', 'SUGGESTED', 'VALLEY', 'TRADE', 'ROOT', 'PARK', 'SEEM', 'WHOSE', 'SPREAD', 'YELLOW', 'SUFFIX', 'RECORD', 'TURN', 'NO', 'PAIR', 'OH', 'NEAR', 'PAPER', 'NUMERAL', 'MEAT', 'TEAM', 'YOU', 'REPRESENT', 'TRUE', 'WROTE', 'RING', 'RIDE', 'RICH', 'PRODUCE', 'WASH', 'SUCH', 'SUDDENLY', 'STREET', 'RUN', 'SEE', 'WATER', 'RATHER', 'OBSERVE', 'PAST', 'WORKERS', 'PLANETS', 'SHOW', 'WAIT', 'ONCE', 'WAVES', 'SCHOOL', 'STICK', 'VIEW', 'WASHINGTON', 'STRETCHED', 'SILENT', 'SOME', 'RACE', 'SHOES', 'MIDDLE', 'POEM', 'MILE', 'ROUND', 'MAP', 'SHOUTED', 'WHITE', 'SAY', 'STOOD', 'MOUNTAIN', 'RULE', 'TRUCK', 'THEIR', 'MOON', 'SEVEN', 'SHIP', 'TIED', 'SAVE', 'NOSE', 'MARK', 'PART', 'PICKED', 'TOP', 'SUN', 'NOTICE', 'RAISED', 'YOUNG', 'QUIET', 'MOST', 'PRESIDENT', 'OBJECT', 'MARCH', 'SETTLED', 'SAND', 'MILK', 'TERMS', 'RAN', 'PULLED', 'SURPRISE', 'MEMBERS', 'MONEY', 'SPACE', 'WHOLE', 'REMEMBER', 'WEAR', 'WIND', 'YOUR', 'SON', 'TUBE', 'STUDY', 'PLEASE', 'WANT', 'SUBSTANCES', 'STATEMENT', 'SAID', 'THICK', 'SOFT', 'SIDE', 'PERHAPS', 'SAME', 'WOMEN', 'WELL', 'VOWEL', 'PRINTED', 'NOTHING', 'TRAVEL', 'NOW', 'SHORT', 'MINE', 'WAS', 'WENT', 'UNDERSTAND', 'SEND', 'OIL', 'REPORT', 'METAL', 'WALL', 'SING', 'OPPOSITE', 'SKY', 'NEVER', 'WINTER', 'MAYBE', 'SAT', 'PHRASE', 'SOON', 'STAND', 'SUPPOSE', 'SO', 'PATTERN', 'WIDE', 'PAINT', 'STAY', 'WHILE', 'MEET', 'SURE', 'ME', 'THEM', 'TO', 'ROOM', 'WE', 'SHOP', 'VOICE', 'ORDER', 'WEEK', 'THAT', 'TOLD', 'MORNING', 'WILL', 'PUT', 'SNOW', 'SOMETHING', 'START', 'NATURAL', 'SET', 'SIR', 'THIS', 'NIGHT', 'TREE', 'OUTSIDE', 'VARIOUS', 'MUSIC', 'TELL', 'MACHINE', 'SHALL', 'TWO', 'SKIN', 'ROCK', 'SYSTEM', 'MOLECULES', 'PRESENT', 'REACHED', 'THOUGHT', 'TOOLS', 'ROPE', 'TRACK', 'STRING', 'WEATHER', 'WESTERN', 'THEMSELVES', 'TODAY', 'SHARP', 'WONDER', 'SCALE', 'THROUGH', 'STUDENTS', 'OVER', 'OTHER', 'PICTURE', 'YET', 'TEMPERATURE', 'TABLE', 'WAY', 'ROAD', 'WITHOUT', 'TOTAL', 'WORD', 'WATCH', 'PLURAL', 'MINUTES', 'VERY', 'METHOD', 'STONE', 'TRY', 'STARS', 'VERB', 'PREPARED', 'STORY', 'SHOULDER', 'SERVE', 'UNCLE', 'READY', 'RIVER', 'POINT', 'VISIT', 'TOWN', 'UNDER', 'MILLION', 'MEN', 'SINCE', 'MOMENT', 'TEN', 'STEEL', 'WRONG', 'MOVE', 'RADIO', 'SIX', 'SENSE', 'SHOULD', 'YES', 'SURFACE', \"WASN'T\", 'RED', 'SAIL', 'PER', 'ROW', 'SPOT', 'SOIL', 'MUST', 'SECOND', 'SMALL', 'SCIENTISTS', 'SOLDIERS', 'MANY', 'PARAGRAPH', 'PROBABLY', 'TOGETHER', 'SEEN', 'YARD', 'THE', 'SENTENCE', 'PROCESS', 'SOUTH', 'TAKE'})\n"
     ]
    }
   ],
   "metadata": {}
  },
  {
   "cell_type": "markdown",
   "source": [
    "## Task 2.2"
   ],
   "metadata": {}
  },
  {
   "cell_type": "code",
   "execution_count": 62,
   "source": [
    "def BinarySearch(lst, item):\n",
    "    start = 0\n",
    "    end = len(lst)-1\n",
    "    words = []\n",
    "    while start <= end:\n",
    "        mid = (start+end)//2\n",
    "        if lst[mid][:len(item)] == item:\n",
    "            # linear search\n",
    "            for i in range(mid,0,-1):\n",
    "                if lst[i][:len(item)] == item:\n",
    "                    words.append(lst[i])\n",
    "                else:\n",
    "                    break\n",
    "\n",
    "            for i in range(mid+1,len(lst)):\n",
    "                if lst[i][:len(item)] == item:\n",
    "                    words.append(lst[i])\n",
    "                else:\n",
    "                    break\n",
    "            return words\n",
    "        if item < lst[mid][:len(item)]:\n",
    "            end = mid - 1\n",
    "        else:\n",
    "            start = mid + 1\n",
    "    return -1\n",
    "\n",
    "print(BinarySearch(dataset, \"TR\"))\n",
    "print(BinarySearch(dataset, \"RE\"))"
   ],
   "outputs": [
    {
     "output_type": "stream",
     "name": "stdout",
     "text": [
      "['TRADE', 'TRACK', 'TRAIN', 'TRAVEL', 'TREE', 'TRIANGLE', 'TRIP', 'TROUBLE', 'TRUCK', 'TRUE', 'TRY']\n",
      "['REASON', 'REALLY', 'READY', 'READ', 'REACHED', 'RECEIVED', 'RECORD', 'RED', 'REGION', 'REMAIN', 'REMEMBER', 'REPEATED', 'REPORT', 'REPRESENT', 'REST', 'RESULT', 'RETURN']\n"
     ]
    }
   ],
   "metadata": {}
  },
  {
   "cell_type": "markdown",
   "source": [
    "# Q4\n",
    "## Task 4.1"
   ],
   "metadata": {}
  },
  {
   "cell_type": "code",
   "execution_count": 2,
   "source": [
    "def gen_grid(n):\n",
    "    grid = [ [\"0\"]*n for i in range(n)]\n",
    "    return grid\n",
    "\n",
    "def display_grid(grid):\n",
    "    for i in grid:\n",
    "        for j in i:\n",
    "            print(j, end=\" \")\n",
    "        print()\n",
    "\n",
    "grid = gen_grid(5)\n",
    "display_grid(grid)"
   ],
   "outputs": [
    {
     "output_type": "stream",
     "name": "stdout",
     "text": [
      "0 0 0 0 0 \n",
      "0 0 0 0 0 \n",
      "0 0 0 0 0 \n",
      "0 0 0 0 0 \n",
      "0 0 0 0 0 \n"
     ]
    }
   ],
   "metadata": {}
  },
  {
   "cell_type": "markdown",
   "source": [
    "## Task 4.2"
   ],
   "metadata": {}
  },
  {
   "cell_type": "code",
   "execution_count": 114,
   "source": [
    "import random\n",
    "\n",
    "def place_bomb(grid, n):\n",
    "    loc_x = random.randint(0,n-1)\n",
    "    loc_y = random.randint(0,n-1)\n",
    "    grid[loc_y][loc_x] = \"X\"\n",
    "\n",
    "    for i in range(-1,2):\n",
    "        for j in range(-1,2):\n",
    "            # ignore the current x and y, and do bounds checking\n",
    "                if (i != 0 or j != 0) and (loc_x + i) > -1 and (loc_y + j) > -1 and (loc_x + i) < n and (loc_y + j) < n:\n",
    "                    if grid[loc_y + j][loc_x + i] != \"X\":\n",
    "                        grid[loc_y + j][loc_x + i] = \"1\"\n",
    "    return grid\n",
    "\n",
    "grid = gen_grid(5)\n",
    "grid = place_bomb(grid, 5)\n",
    "display_grid(grid)\n",
    "print()"
   ],
   "outputs": [
    {
     "output_type": "stream",
     "name": "stdout",
     "text": [
      "0 0 0 0 0 \n",
      "0 0 0 0 0 \n",
      "0 0 0 0 0 \n",
      "0 0 0 1 1 \n",
      "0 0 0 1 X \n",
      "\n"
     ]
    }
   ],
   "metadata": {}
  },
  {
   "cell_type": "markdown",
   "source": [
    "## Task 4.3"
   ],
   "metadata": {}
  },
  {
   "cell_type": "code",
   "execution_count": 131,
   "source": [
    "import random\n",
    "\n",
    "def place_bomb(grid, n):\n",
    "    for a in range(2): # place 2 bombs\n",
    "        loc_x = random.randint(0,n-1)\n",
    "        loc_y = random.randint(0,n-1)\n",
    "        while grid[loc_y][loc_x] == \"X\": # ensure it dosen't generate on existing bomb\n",
    "            loc_x = random.randint(0,n-1)\n",
    "            loc_y = random.randint(0,n-1)\n",
    "        grid[loc_y][loc_x] = \"X\"\n",
    "        for i in range(-1,2):\n",
    "            for j in range(-1,2):\n",
    "                # ignore the current x and y, and do bounds checking\n",
    "                    if (i != 0 or j != 0) and (loc_x + i) > -1 and (loc_y + j) > -1 and (loc_x + i) < n and (loc_y + j) < n:\n",
    "                        if grid[loc_y + j][loc_x + i] != \"X\":\n",
    "                            grid[loc_y + j][loc_x + i] = str(int(grid[loc_y + j][loc_x + i])+1)\n",
    "    return grid\n",
    "\n",
    "grid = gen_grid(5)\n",
    "grid = place_bomb(grid, 5)\n",
    "display_grid(grid)\n",
    "print()"
   ],
   "outputs": [
    {
     "output_type": "stream",
     "name": "stdout",
     "text": [
      "X 2 X 1 0 \n",
      "1 2 1 1 0 \n",
      "0 0 0 0 0 \n",
      "0 0 0 0 0 \n",
      "0 0 0 0 0 \n",
      "\n"
     ]
    }
   ],
   "metadata": {}
  },
  {
   "cell_type": "markdown",
   "source": [
    "## Task 4.4"
   ],
   "metadata": {}
  },
  {
   "cell_type": "code",
   "execution_count": 3,
   "source": [
    "import random\n",
    "\n",
    "def place_bomb(grid, n, k):\n",
    "    for a in range(k): # place k bombs\n",
    "        loc_x = random.randint(0,n-1)\n",
    "        loc_y = random.randint(0,n-1)\n",
    "        while grid[loc_y][loc_x] == \"X\": # ensure it dosen't generate on existing bomb\n",
    "            loc_x = random.randint(0,n-1)\n",
    "            loc_y = random.randint(0,n-1)\n",
    "        grid[loc_y][loc_x] = \"X\"\n",
    "        for i in range(-1,2):\n",
    "            for j in range(-1,2):\n",
    "                # ignore the current x and y, and do bounds checking\n",
    "                    if (i != 0 or j != 0) and (loc_x + i) > -1 and (loc_y + j) > -1 and (loc_x + i) < n and (loc_y + j) < n:\n",
    "                        if grid[loc_y + j][loc_x + i] != \"X\":\n",
    "                            grid[loc_y + j][loc_x + i] = str(int(grid[loc_y + j][loc_x + i])+1)\n",
    "    return grid\n",
    "\n",
    "grid = gen_grid(5)\n",
    "grid = place_bomb(grid, 5, 3)\n",
    "display_grid(grid)\n",
    "print()\n",
    "\n",
    "grid = gen_grid(6)\n",
    "grid = place_bomb(grid, 6, 8)\n",
    "display_grid(grid)\n",
    "print()\n",
    "\n",
    "grid = gen_grid(8)\n",
    "grid = place_bomb(grid, 8, 20)\n",
    "display_grid(grid)\n",
    "print()"
   ],
   "outputs": [
    {
     "output_type": "stream",
     "name": "stdout",
     "text": [
      "0 1 1 2 1 \n",
      "0 1 X 2 X \n",
      "0 1 1 2 1 \n",
      "0 0 1 1 1 \n",
      "0 0 1 X 1 \n",
      "\n",
      "0 1 X 1 1 X \n",
      "0 1 1 1 1 1 \n",
      "1 1 0 0 1 1 \n",
      "X 3 2 1 1 X \n",
      "3 X X 2 2 1 \n",
      "X 3 3 X 1 0 \n",
      "\n",
      "2 X 2 0 2 X 3 1 \n",
      "3 X 2 0 3 X X 1 \n",
      "X 4 3 2 4 X 4 1 \n",
      "2 X X 3 X X 3 1 \n",
      "1 2 4 X 4 3 3 X \n",
      "1 2 3 X 3 2 X 2 \n",
      "X 3 X 5 X 3 1 1 \n",
      "1 3 X 4 X 2 0 0 \n",
      "\n"
     ]
    }
   ],
   "metadata": {}
  },
  {
   "cell_type": "markdown",
   "source": [
    "## Task 4.5"
   ],
   "metadata": {}
  },
  {
   "cell_type": "code",
   "execution_count": 16,
   "source": [
    "diff = input(\"Enter difficulty level (B for Beginner, I for Intermediate, E for Expert): \")\n",
    "if diff == \"B\":\n",
    "    n = 5\n",
    "    k = 3\n",
    "elif diff == \"I\":\n",
    "    n = 6\n",
    "    k = 8\n",
    "elif diff == \"E\":\n",
    "    n = 8\n",
    "    k = 20\n",
    "\n",
    "grid = gen_grid(n)\n",
    "grid = place_bomb(grid,n,k)\n",
    "grid_bools = [ [False]*n for i in range(n)]\n",
    "def display_grid_user(grid):\n",
    "    for i in range(len(grid)):\n",
    "        for j in range(len(grid[i])):\n",
    "            if not grid_bools[i][j]:\n",
    "                print(\"-\", end=\" \")\n",
    "            else:\n",
    "                print(grid[i][j], end=\" \")\n",
    "        print()\n",
    "\n",
    "score = 0\n",
    "while True:\n",
    "    print(\"Enter your cell you want to open\")\n",
    "    x = input(f\"X (1 to {n}): \")\n",
    "    y = input(f\"Y (1 to {n}): \")\n",
    "    x = int(x)-1\n",
    "    y = int(y)-1\n",
    "    grid_bools[y][x] = True\n",
    "    if grid[y][x] == \"X\":\n",
    "        display_grid(grid)\n",
    "        print(f\"Game Over! You've hit the bomb at: ({x+1},{y+1})\")\n",
    "        print(f\"Your score is {score}\")\n",
    "        break\n",
    "    else:\n",
    "        display_grid_user(grid)\n",
    "        score += 1\n",
    "        if score == n*n-k:\n",
    "            print(f\"You have Won!\")\n",
    "            print(f\"Your score is {score}\")\n",
    "            break\n",
    "        else:\n",
    "            print(f\"Your score is {score}\")"
   ],
   "outputs": [
    {
     "output_type": "stream",
     "name": "stdout",
     "text": [
      "Enter your cell you want to open\n",
      "- - - - - \n",
      "- - - - - \n",
      "- - 1 - - \n",
      "- - - - - \n",
      "- - - - - \n",
      "Your score is 1\n",
      "Enter your cell you want to open\n",
      "1 1 1 0 0 \n",
      "1 X 1 0 0 \n",
      "1 1 1 0 0 \n",
      "1 2 1 1 0 \n",
      "X 2 X 1 0 \n",
      "Game Over! You've hit the bomb at: (2,2)\n",
      "Your score is 1\n"
     ]
    }
   ],
   "metadata": {}
  }
 ],
 "metadata": {
  "orig_nbformat": 4,
  "language_info": {
   "name": "python",
   "version": "3.9.6",
   "mimetype": "text/x-python",
   "codemirror_mode": {
    "name": "ipython",
    "version": 3
   },
   "pygments_lexer": "ipython3",
   "nbconvert_exporter": "python",
   "file_extension": ".py"
  },
  "kernelspec": {
   "name": "python3",
   "display_name": "Python 3.9.6 64-bit"
  },
  "interpreter": {
   "hash": "b0fa6594d8f4cbf19f97940f81e996739fb7646882a419484c72d19e05852a7e"
  }
 },
 "nbformat": 4,
 "nbformat_minor": 2
}