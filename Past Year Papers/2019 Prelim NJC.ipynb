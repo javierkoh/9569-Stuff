{
 "cells": [
  {
   "cell_type": "markdown",
   "source": [
    "# Q1\n",
    "## Task 1.1"
   ],
   "metadata": {}
  },
  {
   "cell_type": "code",
   "execution_count": 3,
   "source": [
    "import csv\n",
    "def read_data(filename):\n",
    "    with open(filename, \"r\") as f:\n",
    "        reader = csv.reader(f, delimiter=\"\\t\")\n",
    "        lst = [row for row in reader]\n",
    "\n",
    "    for i in lst:\n",
    "        for j in range(1,10):\n",
    "            i[j] = float(i[j])\n",
    "    \n",
    "    return lst\n",
    "\n",
    "weather_2018 = read_data(\"WEATHER-JUNE-2018.TXT\")\n",
    "weather_2019 = read_data(\"WEATHER-JUNE-2019.TXT\")\n",
    "\n",
    "#print(weather_2018)\n",
    "#print(weather_2019)"
   ],
   "outputs": [],
   "metadata": {}
  },
  {
   "cell_type": "markdown",
   "source": [
    "## Task 1.2"
   ],
   "metadata": {}
  },
  {
   "cell_type": "code",
   "execution_count": 4,
   "source": [
    "def bubble_sort(array):\n",
    "    for i in range(0, len(array)-1):\n",
    "        swap = False\n",
    "        for j in range(0, len(array)-i-1):\n",
    "            if array[j][5] > array[j+1][5]:\n",
    "                array[j], array[j+1] = array[j+1], array[j]\n",
    "                swap = True\n",
    "        if not swap:\n",
    "            break\n",
    "    return array\n",
    "\n",
    "weather_2018_s = bubble_sort(weather_2018)\n",
    "weather_2019_s = bubble_sort(weather_2019)"
   ],
   "outputs": [],
   "metadata": {}
  },
  {
   "cell_type": "markdown",
   "source": [
    "## Task 1.3"
   ],
   "metadata": {}
  },
  {
   "cell_type": "code",
   "execution_count": 8,
   "source": [
    "def median(arr):\n",
    "    mean_temps = [i[5] for i in arr]\n",
    "    return (mean_temps[14]+mean_temps[15]) / 2\n",
    "\n",
    "print(f\"Difference in Median Temperatures (June 2019 - June 2018): {abs(median(weather_2018_s)-median(weather_2019_s))}°C\")"
   ],
   "outputs": [
    {
     "output_type": "stream",
     "name": "stdout",
     "text": [
      "Difference in Median Temperatures (June 2019 - June 2018): 0.15000000000000213°C\n"
     ]
    }
   ],
   "metadata": {}
  },
  {
   "cell_type": "markdown",
   "source": [
    "## Task 1.4"
   ],
   "metadata": {}
  },
  {
   "cell_type": "code",
   "execution_count": 10,
   "source": [
    "def binary_search(array,val):\n",
    "    start = 0\n",
    "    end = len(array)-1\n",
    "    while start <= end:\n",
    "        mid = (start+end)//2\n",
    "        if val == array[mid][5]:\n",
    "            for i in range(mid,len(array)):\n",
    "                if array[i][5] != val: # first element different is \"just greater than\"\n",
    "                    return array[i]\n",
    "        if val < array[mid][5]:\n",
    "            end = mid - 1\n",
    "        else:\n",
    "            start = mid + 1\n",
    "    return -1\n",
    "\n",
    "#print([i[5] for i in weather_2018_s])\n",
    "#print(binary_search(weather_2018_s,29.9)[5])"
   ],
   "outputs": [],
   "metadata": {}
  },
  {
   "cell_type": "markdown",
   "source": [
    "## Task 1.5"
   ],
   "metadata": {}
  },
  {
   "cell_type": "code",
   "execution_count": 13,
   "source": [
    "weather_201819 = bubble_sort([i+[\"2018\"] for i in weather_2018]+[i+[\"2019\"] for i in weather_2019])\n",
    "\n",
    "while True:\n",
    "    temp = input(\"Please input a mean temperature threshold (°C) or Q to exit\")\n",
    "    if temp == \"Q\":\n",
    "        break\n",
    "    try:\n",
    "        temp = float(temp)\n",
    "        just_g_t = binary_search(weather_201819, temp)\n",
    "        if just_g_t == -1:\n",
    "            print(\"No records found\")\n",
    "        else:\n",
    "            index = weather_201819.index(just_g_t)\n",
    "            output = [(i[-1],i[0],i[1],i[5],i[8]) for i in weather_201819[index:len(weather_201819)+1]] # everything after \"just greater than\" will be greater than temp\n",
    "            output = reversed(output)\n",
    "\n",
    "            print(\"YEAR\\tDATE\\tRAIN\\tTEMP\\tWIND\")\n",
    "            for i in output:\n",
    "                for j in i:\n",
    "                    print(j,end=\"\\t\")\n",
    "                print()\n",
    "    except ValueError:\n",
    "        print(\"Invalid input!\")"
   ],
   "outputs": [
    {
     "output_type": "stream",
     "name": "stdout",
     "text": [
      "YEAR\tDATE\tRAIN\tTEMP\tWIND\n",
      "2018\t7 Jun\t0.0\t30.3\t11.5\t\n",
      "2018\t11 Jun\t0.0\t30.2\t13.7\t\n",
      "2018\t6 Jun\t0.0\t30.2\t12.6\t\n",
      "2019\t10 Jun\t0.0\t30.0\t12.2\t\n",
      "2019\t11 Jun\t0.0\t29.9\t11.9\t\n",
      "2018\t12 Jun\t0.0\t29.9\t9.4\t\n",
      "2018\t10 Jun\t0.0\t29.9\t12.2\t\n",
      "2018\t4 Jun\t0.4\t29.7\t7.9\t\n",
      "2019\t28 Jun\t0.0\t29.6\t14.4\t\n",
      "2018\t17 Jun\t0.4\t29.6\t11.9\t\n"
     ]
    }
   ],
   "metadata": {}
  },
  {
   "cell_type": "markdown",
   "source": [
    "# Q2\n",
    "\n",
    "```\n",
    "FUNCTION SIZE(L: ARRAY) returns length of L\n",
    "FUNCTION SWAP(a,b) swaps the values in a and b\n",
    "Assume first index of array is 0\n",
    "1. L,0\n",
    "2. i = SIZE(L)-1\n",
    "3. insertionSortOuter(insertionSortInner(L,i+1),i+1)\n",
    "4. j <= 0\n",
    "5. L[j] < L[j-1]\n",
    "6. SWAP(L[j],L[j-1])\n",
    "7. insertionSortInner(L,j-1)\n",
    "```\n",
    "\n",
    "## Task 2.1"
   ],
   "metadata": {}
  },
  {
   "cell_type": "code",
   "execution_count": 11,
   "source": [
    "def insertionSort(L):\n",
    "    if not all(isinstance(x, int) for x in L):\n",
    "        return(\"List can only contain integers!\")\n",
    "    return insertionSortOuter(L,0)\n",
    "\n",
    "def insertionSortOuter(L,i):\n",
    "    if i==len(L)-1:\n",
    "        return L\n",
    "    else:\n",
    "        return insertionSortOuter(insertionSortInner(L,i+1),i+1)\n",
    "\n",
    "def insertionSortInner(L,j):\n",
    "    if j <= 0:\n",
    "        return L\n",
    "    else:\n",
    "        if L[j] < L[j-1]:\n",
    "            L[j], L[j-1] = L[j-1], L[j]\n",
    "        return insertionSortInner(L,j-1)\n",
    "\n",
    "print(insertionSort([9,2,8,4,5,1,6]))"
   ],
   "outputs": [
    {
     "output_type": "stream",
     "name": "stdout",
     "text": [
      "[1, 2, 4, 5, 6, 8, 9]\n"
     ]
    }
   ],
   "metadata": {}
  },
  {
   "cell_type": "markdown",
   "source": [
    "## Task 2.2\n",
    "\n",
    "|Input|Expected Output|Purpose|\n",
    "|---|---|---|\n",
    "|[9,2,8,4,5,1,6]|[1,2,4,5,6,8,9]|Normal test case\n",
    "|[1,1,1,1,1]|[1,1,1,1,1]|Boundary test case\n",
    "|[\"hi\",1]|List can only contain integers!|Abnormal test case"
   ],
   "metadata": {}
  },
  {
   "cell_type": "markdown",
   "source": [
    "## Task 2.3"
   ],
   "metadata": {}
  },
  {
   "cell_type": "code",
   "execution_count": 19,
   "source": [
    "def fib(k): # returns kth fib num\n",
    "    if k == 0:\n",
    "        return 0\n",
    "    elif k == 1:\n",
    "        return 1\n",
    "    else:\n",
    "        return fib(k-1)+fib(k-2)\n",
    "\n",
    "def get_list(n, lst, i): # returns list of fib nums up till n\n",
    "    if lst[-1] > n:\n",
    "        return lst\n",
    "    else:\n",
    "        return get_list(n, lst+[fib(i)], i+1)\n",
    "\n",
    "def find_k(n):\n",
    "    if n < 0 or isinstance(n, float):\n",
    "        return \"Program only accepts positive integers\"\n",
    "\n",
    "    lst = get_list(n, [0], 1)\n",
    "    \n",
    "    if n in lst:\n",
    "        return lst.index(n)\n",
    "    else:\n",
    "        return -1\n",
    "\n",
    "#print(find_k(1346270))\n",
    "#print(find_k(24157817))"
   ],
   "outputs": [],
   "metadata": {}
  },
  {
   "cell_type": "markdown",
   "source": [
    "## Task 2.4\n",
    "\n",
    "|Input|Expected Output|Purpose|\n",
    "|---|---|---|\n",
    "|55|10|Normal test case\n",
    "|0|0|Boundary test case\n",
    "|-5|Program only accepts positive integers|Abnormal test case"
   ],
   "metadata": {}
  },
  {
   "cell_type": "markdown",
   "source": [
    "## Task 2.5"
   ],
   "metadata": {}
  },
  {
   "cell_type": "code",
   "execution_count": 18,
   "source": [
    "print(find_k(55))\n",
    "print(find_k(0))\n",
    "print(find_k(-5))\n",
    "print(find_k(1346270))\n",
    "print(find_k(24157817))"
   ],
   "outputs": [
    {
     "output_type": "stream",
     "name": "stdout",
     "text": [
      "10\n",
      "0\n",
      "Program only accepts positive integers\n",
      "-1\n",
      "37\n"
     ]
    }
   ],
   "metadata": {}
  },
  {
   "cell_type": "markdown",
   "source": [
    "# Q4\n",
    "## Task 4.1"
   ],
   "metadata": {}
  },
  {
   "cell_type": "code",
   "execution_count": 33,
   "source": [
    "class HexBoard:\n",
    "    def __init__(self, n):\n",
    "        self.n = n\n",
    "        board = []\n",
    "        for i in range(n):\n",
    "            row = []\n",
    "            for j in range(n):\n",
    "                row.append(\"\")\n",
    "            board.append(row)\n",
    "        self.board = board\n",
    "        self.turn = 0\n",
    "    def playX(self, x, y):\n",
    "        x -= 1\n",
    "        y -= 1\n",
    "        if self.board[y][x] == \"\":\n",
    "            self.board[y][x] = \"X\"\n",
    "    def playO(self, x, y):\n",
    "        x -= 1\n",
    "        y -= 1\n",
    "        if self.board[y][x] == \"\":\n",
    "            self.board[y][x] = \"O\"\n",
    "    def printBoard(self):\n",
    "        for i in self.board:\n",
    "            for j in i:\n",
    "                if j == \"\":\n",
    "                    print(\"_\", end=\" \")\n",
    "                else:\n",
    "                    print(j, end=\" \")\n",
    "            print()\n",
    "\n",
    "#board = HexBoard(3)\n",
    "#board.playX(2,3)\n",
    "#board.playO(1,1)\n",
    "#board = HexBoard(4)\n",
    "#board.playX(4,3)\n",
    "#board.printBoard()"
   ],
   "outputs": [],
   "metadata": {}
  },
  {
   "cell_type": "markdown",
   "source": [
    "## Task 4.2"
   ],
   "metadata": {}
  },
  {
   "cell_type": "code",
   "execution_count": 89,
   "source": [
    "class HexBoard:\n",
    "    def __init__(self, n):\n",
    "        self.n = n\n",
    "        board = []\n",
    "        for i in range(n):\n",
    "            row = []\n",
    "            for j in range(n):\n",
    "                row.append(\"\")\n",
    "            board.append(row)\n",
    "        self.board = board\n",
    "        self.turn = 0\n",
    "    def playX(self, x, y):\n",
    "        x -= 1\n",
    "        y -= 1\n",
    "        if self.board[y][x] == \"\":\n",
    "            self.board[y][x] = \"X\"\n",
    "    def playO(self, x, y):\n",
    "        x -= 1\n",
    "        y -= 1\n",
    "        if self.board[y][x] == \"\":\n",
    "            self.board[y][x] = \"O\"\n",
    "    def checkWinX(self):\n",
    "        for row in self.board:\n",
    "            if row == [\"X\"]*self.n:\n",
    "                return True\n",
    "\n",
    "        return False\n",
    "    def checkWinO(self):\n",
    "        cols = []\n",
    "        for i in range(self.n):\n",
    "            tmp = []\n",
    "            for j in self.board:\n",
    "                tmp.append(j[i])\n",
    "            cols.append(tmp)\n",
    "        for col in cols:\n",
    "            if col == [\"O\"]*self.n:\n",
    "                return True\n",
    "\n",
    "        return False\n",
    "    def printBoard(self):\n",
    "        for i in self.board:\n",
    "            for j in i:\n",
    "                if j == \"\":\n",
    "                    print(\"_\", end=\" \")\n",
    "                else:\n",
    "                    print(j, end=\" \")\n",
    "            print()\n",
    "\n",
    "#board = HexBoard(4)\n",
    "#board.playO(4,1)\n",
    "#board.playO(4,2)\n",
    "#board.playO(4,3)\n",
    "#board.playO(4,4)\n",
    "#board.playX(1,3)\n",
    "#board.playX(2,3)\n",
    "#board.playX(3,3)\n",
    "#board.playX(4,3)\n",
    "#board.printBoard()\n",
    "#board.checkWinX()\n",
    "#board.checkWinO()"
   ],
   "outputs": [],
   "metadata": {}
  },
  {
   "cell_type": "markdown",
   "source": [
    "## Task 4.3"
   ],
   "metadata": {}
  },
  {
   "cell_type": "code",
   "execution_count": 92,
   "source": [
    "n = int(input(\"Enter number of cells on each row/col: \"))\n",
    "board = HexBoard(n)\n",
    "board.printBoard()\n",
    "\n",
    "while True:\n",
    "    if board.checkWinX():\n",
    "        print(\"X wins!\")\n",
    "        break\n",
    "    if board.checkWinO():\n",
    "        print(\"O wins!\")\n",
    "        break\n",
    "\n",
    "    turn = input(\"Enter player (X or O): \")\n",
    "    coords = input(\"Enter coordinates (x and y, separated by comma): \").split(\",\")\n",
    "    coords = [int(i) for i in coords]\n",
    "    if turn == \"X\":\n",
    "        board.playX(coords[0],coords[1])\n",
    "    elif turn == \"O\":\n",
    "        board.playO(coords[0],coords[1])\n",
    "    board.printBoard()"
   ],
   "outputs": [
    {
     "output_type": "stream",
     "name": "stdout",
     "text": [
      "_ _ _ \n",
      "_ _ _ \n",
      "_ _ _ \n",
      "X _ _ \n",
      "_ _ _ \n",
      "_ _ _ \n",
      "X X _ \n",
      "_ _ _ \n",
      "_ _ _ \n",
      "X X X \n",
      "_ _ _ \n",
      "_ _ _ \n",
      "X wins!\n"
     ]
    }
   ],
   "metadata": {}
  }
 ],
 "metadata": {
  "orig_nbformat": 4,
  "language_info": {
   "name": "python",
   "version": "3.9.6",
   "mimetype": "text/x-python",
   "codemirror_mode": {
    "name": "ipython",
    "version": 3
   },
   "pygments_lexer": "ipython3",
   "nbconvert_exporter": "python",
   "file_extension": ".py"
  },
  "kernelspec": {
   "name": "python3",
   "display_name": "Python 3.9.6 64-bit"
  },
  "interpreter": {
   "hash": "b0fa6594d8f4cbf19f97940f81e996739fb7646882a419484c72d19e05852a7e"
  }
 },
 "nbformat": 4,
 "nbformat_minor": 2
}