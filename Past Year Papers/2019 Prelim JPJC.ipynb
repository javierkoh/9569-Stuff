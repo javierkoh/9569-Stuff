{
 "cells": [
  {
   "cell_type": "markdown",
   "source": [
    "# Q1\n",
    "## Task 1.1"
   ],
   "metadata": {}
  },
  {
   "cell_type": "code",
   "execution_count": 17,
   "source": [
    "import csv\n",
    "\n",
    "with open(\"VISITORS.txt\", \"r\") as f:\n",
    "    reader = csv.reader(f)\n",
    "    data = [row for row in reader]\n",
    "    data = data[1:] # remove header\n",
    "\n",
    "for i in data:\n",
    "    i[0] = int(i[0])\n",
    "    i[2] = int(i[2])\n",
    "\n",
    "data_to_nums = {i[0]:0 for i in data}\n",
    "for i in data:\n",
    "    data_to_nums[i[0]] += i[2]\n",
    "\n",
    "start_year = input(\"Enter start year: \")\n",
    "end_year = input(\"Enter end year: \")\n",
    "try:\n",
    "    start_year = int(start_year)\n",
    "    end_year = int(end_year)\n",
    "    print(\"Year\\tNumber of visitors\")\n",
    "    for i in range(start_year, end_year+1):\n",
    "        print(str(i)+\"\\t\"+str(data_to_nums[i]))\n",
    "except ValueError:\n",
    "    print(\"Input must be an integer!\")"
   ],
   "outputs": [
    {
     "output_type": "stream",
     "name": "stdout",
     "text": [
      "Year\tNumber of visitors\n",
      "1978\t2047224\n",
      "1979\t2247091\n",
      "1980\t2562085\n"
     ]
    }
   ],
   "metadata": {}
  },
  {
   "cell_type": "markdown",
   "source": [
    "## Task 1.2\n",
    "\n",
    "|Test data|Purpose of test data|Expected results|\n",
    "|---|---|---|\n",
    "|1978,1980|Normal test case|2047224,2247091,2562085|\n",
    "|1978,1978|Boundary test case|2047224|\n",
    "|2018,2018|Boundary test case|18508302|\n",
    "|\"hi\",\"yes\"|Abnormal test case|Input must be an integer!|"
   ],
   "metadata": {}
  },
  {
   "cell_type": "markdown",
   "source": [
    "## Task 2.1\n",
    "\n",
    "`A: SomeList[CurrentItem+1] ← ItemToBeInserted`"
   ],
   "metadata": {}
  },
  {
   "cell_type": "code",
   "execution_count": 49,
   "source": [
    "def SomeSort(SomeList):\n",
    "    for i in range(1,len(SomeList)): # changed this line\n",
    "        ItemToBeInserted = SomeList[i]\n",
    "        CurrentItem = i - 1\n",
    "        while (SomeList[CurrentItem] > ItemToBeInserted and CurrentItem >= 0): # changed this line\n",
    "            SomeList[CurrentItem+1] = SomeList[CurrentItem]\n",
    "            CurrentItem -= 1\n",
    "        SomeList[CurrentItem+1] = ItemToBeInserted # A\n",
    "    return SomeList\n",
    "\n",
    "arr = [435,646,344,54,23,98,789,212,847,201,733]\n",
    "print(SomeSort(arr))"
   ],
   "outputs": [
    {
     "output_type": "stream",
     "name": "stdout",
     "text": [
      "[23, 54, 98, 201, 212, 344, 435, 646, 733, 789, 847]\n"
     ]
    }
   ],
   "metadata": {}
  },
  {
   "cell_type": "markdown",
   "source": [
    "## Task 2.2"
   ],
   "metadata": {}
  },
  {
   "cell_type": "code",
   "execution_count": null,
   "source": [
    "def bubble_sort(array):\n",
    "    for i in range(0, len(array)-1):\n",
    "        swap = False\n",
    "        for j in range(0, len(array)-i-1):\n",
    "            if array[j] > array[j+1]:\n",
    "                array[j], array[j+1] = array[j+1], array[j]\n",
    "                swap = True\n",
    "        if not swap:\n",
    "            break\n",
    "    return array"
   ],
   "outputs": [],
   "metadata": {}
  },
  {
   "cell_type": "markdown",
   "source": [
    "## Task 2.3"
   ],
   "metadata": {}
  },
  {
   "cell_type": "code",
   "execution_count": 4,
   "source": [
    "def SomeSort(SomeList):\n",
    "    num_comparisons = 0\n",
    "    for i in range(1,len(SomeList)): # changed this line\n",
    "        ItemToBeInserted = SomeList[i]\n",
    "        CurrentItem = i - 1\n",
    "        while (SomeList[CurrentItem] > ItemToBeInserted and CurrentItem >= 0): # changed this line\n",
    "            SomeList[CurrentItem+1] = SomeList[CurrentItem]\n",
    "            CurrentItem -= 1\n",
    "        num_comparisons += 1\n",
    "        SomeList[CurrentItem+1] = ItemToBeInserted # A\n",
    "    return SomeList, num_comparisons\n",
    "\n",
    "def bubble_sort(array):\n",
    "    num_comparisons = 0\n",
    "    for i in range(0, len(array)-1):\n",
    "        swap = False\n",
    "        for j in range(0, len(array)-i-1):\n",
    "            if array[j] > array[j+1]:\n",
    "                array[j], array[j+1] = array[j+1], array[j]\n",
    "                swap = True\n",
    "            num_comparisons += 1\n",
    "        if not swap:\n",
    "            break\n",
    "    return array, num_comparisons\n",
    "\n",
    "arr = [435,646,344,54,23,98,789,212,847,201,733]\n",
    "print(SomeSort(arr))\n",
    "print(bubble_sort(arr))"
   ],
   "outputs": [
    {
     "output_type": "stream",
     "name": "stdout",
     "text": [
      "([23, 54, 98, 201, 212, 344, 435, 646, 733, 789, 847], 10)\n",
      "([23, 54, 98, 201, 212, 344, 435, 646, 733, 789, 847], 10)\n"
     ]
    }
   ],
   "metadata": {}
  },
  {
   "cell_type": "markdown",
   "source": [
    "# Q4\n",
    "## Task 4.1"
   ],
   "metadata": {}
  },
  {
   "cell_type": "code",
   "execution_count": 12,
   "source": [
    "puzzle1 = [[8,2,5,4,7,1,3,9,6],\n",
    "           [1,9,4,3,2,6,5,7,8],\n",
    "           [3,7,6,9,8,5,2,4,1],\n",
    "           [5,1,9,7,4,3,8,6,2],\n",
    "           [6,3,2,5,9,8,4,1,7],\n",
    "           [4,8,7,6,1,2,9,3,5],\n",
    "           [2,6,3,1,5,9,7,8,4],\n",
    "           [9,4,8,2,6,7,1,5,3],\n",
    "           [7,5,1,8,3,4,6,2,9]]\n",
    "\n",
    "def displayboard(board):\n",
    "    for i in board:\n",
    "        for j in i:\n",
    "            print(j, end=\" \")\n",
    "        print()\n",
    "    return \"\"\n",
    "\n",
    "print(displayboard(puzzle1))"
   ],
   "outputs": [
    {
     "output_type": "stream",
     "name": "stdout",
     "text": [
      "8 2 5 4 7 1 3 9 6 \n",
      "1 9 4 3 2 6 5 7 8 \n",
      "3 7 6 9 8 5 2 4 1 \n",
      "5 1 9 7 4 3 8 6 2 \n",
      "6 3 2 5 9 8 4 1 7 \n",
      "4 8 7 6 1 2 9 3 5 \n",
      "2 6 3 1 5 9 7 8 4 \n",
      "9 4 8 2 6 7 1 5 3 \n",
      "7 5 1 8 3 4 6 2 9 \n",
      "\n"
     ]
    }
   ],
   "metadata": {}
  },
  {
   "cell_type": "markdown",
   "source": [
    "## Task 4.2"
   ],
   "metadata": {}
  },
  {
   "cell_type": "code",
   "execution_count": 13,
   "source": [
    "def checkRow(board):\n",
    "    bools = []\n",
    "    for i in board:\n",
    "        no_dupes = list(set(i))\n",
    "        bools.append(no_dupes == list(sorted(i)))\n",
    "    return all(bools)\n",
    "\n",
    "print(checkRow(puzzle1))"
   ],
   "outputs": [
    {
     "output_type": "stream",
     "name": "stdout",
     "text": [
      "True\n"
     ]
    }
   ],
   "metadata": {}
  },
  {
   "cell_type": "markdown",
   "source": [
    "## Task 4.3"
   ],
   "metadata": {}
  },
  {
   "cell_type": "code",
   "execution_count": 29,
   "source": [
    "def checkColumns(board):\n",
    "    cols = []\n",
    "    for i in range(9):\n",
    "        tmp = []\n",
    "        for j in board:\n",
    "            tmp.append(j[i])\n",
    "        cols.append(tmp)\n",
    "    return checkRow(cols)\n",
    "\n",
    "print(checkColumns(puzzle1))"
   ],
   "outputs": [
    {
     "output_type": "stream",
     "name": "stdout",
     "text": [
      "True\n"
     ]
    }
   ],
   "metadata": {}
  },
  {
   "cell_type": "markdown",
   "source": [
    "## Task 4.4"
   ],
   "metadata": {}
  },
  {
   "cell_type": "code",
   "execution_count": 22,
   "source": [
    "def checkBlock(board):\n",
    "    blocks = []\n",
    "    for i in range(0,9,3):\n",
    "        for j in range(0,9,3):\n",
    "            block = [board[i+k][j+l] for k in range(3) for l in range(3)]\n",
    "            blocks.append(block)\n",
    "    return checkRow(blocks)\n",
    "\n",
    "print(checkBlock(puzzle1))"
   ],
   "outputs": [
    {
     "output_type": "stream",
     "name": "stdout",
     "text": [
      "True\n"
     ]
    }
   ],
   "metadata": {}
  },
  {
   "cell_type": "markdown",
   "source": [
    "## Task 4.5"
   ],
   "metadata": {}
  },
  {
   "cell_type": "code",
   "execution_count": 41,
   "source": [
    "def sudoku_helper(board):\n",
    "    displayboard(board)\n",
    "    bools = {\"row\":checkRow(board), \"column\":checkColumns(board), \"block\":checkBlock(board)}\n",
    "    if all(bools.values()):\n",
    "        return \"Puzzle is valid\"\n",
    "    else:\n",
    "        error_str = \"Invalidity in \"\n",
    "        for i in bools.keys():\n",
    "            if not bools[i]:\n",
    "                error_str += f\"{i}, \"\n",
    "        return error_str[:-2]\n",
    "\n",
    "puzzle1 = [[8,2,5,4,7,1,3,9,6],\n",
    "           [1,9,4,3,2,6,5,7,8],\n",
    "           [3,7,6,9,8,5,2,4,1],\n",
    "           [5,1,9,7,4,3,8,6,2],\n",
    "           [6,3,2,5,9,8,4,1,7],\n",
    "           [4,8,7,6,1,2,9,3,5],\n",
    "           [2,6,3,1,5,9,7,8,4],\n",
    "           [9,4,8,2,6,7,1,5,3],\n",
    "           [7,5,1,8,3,4,6,2,9]]\n",
    "\n",
    "puzzle2 = [[2,4,8,3,9,5,7,1,6],[5,7,1,6,2,8,3,4,9],[9,3,6,7,4,1,5,8,2],\n",
    "[6,8,2,5,3,9,1,7,4],[3,5,9,1,7,4,6,2,8],[7,1,4,8,6,9,2,5,3],\n",
    "[8,6,3,4,1,7,2,9,5],[1,9,5,2,8,6,4,3,7],[4,2,7,9,5,3,8,6,1]]\n",
    "\n",
    "puzzle3 = [[1,7,5,8,3,9,4,2,6],[6,3,8,2,7,4,9,1,5],[4,2,9,6,5,1,3,7,8],[8,1,6,3,9,5,7,4,2],\n",
    "[5,4,7,1,6,2,8,3,9],[2,9,3,4,7,8,6,5,1],[7,5,4,9,2,6,1,8,3],[9,8,1,5,4,3,2,6,7],[3,6,2,7,1,5,8,9,4]]\n",
    "\n",
    "print(sudoku_helper(puzzle1))\n",
    "print(sudoku_helper(puzzle2))\n",
    "print(sudoku_helper(puzzle3))"
   ],
   "outputs": [
    {
     "output_type": "stream",
     "name": "stdout",
     "text": [
      "8 2 5 4 7 1 3 9 6 \n",
      "1 9 4 3 2 6 5 7 8 \n",
      "3 7 6 9 8 5 2 4 1 \n",
      "5 1 9 7 4 3 8 6 2 \n",
      "6 3 2 5 9 8 4 1 7 \n",
      "4 8 7 6 1 2 9 3 5 \n",
      "2 6 3 1 5 9 7 8 4 \n",
      "9 4 8 2 6 7 1 5 3 \n",
      "7 5 1 8 3 4 6 2 9 \n",
      "Puzzle is valid\n",
      "2 4 8 3 9 5 7 1 6 \n",
      "5 7 1 6 2 8 3 4 9 \n",
      "9 3 6 7 4 1 5 8 2 \n",
      "6 8 2 5 3 9 1 7 4 \n",
      "3 5 9 1 7 4 6 2 8 \n",
      "7 1 4 8 6 9 2 5 3 \n",
      "8 6 3 4 1 7 2 9 5 \n",
      "1 9 5 2 8 6 4 3 7 \n",
      "4 2 7 9 5 3 8 6 1 \n",
      "Invalidity in column, block\n",
      "1 7 5 8 3 9 4 2 6 \n",
      "6 3 8 2 7 4 9 1 5 \n",
      "4 2 9 6 5 1 3 7 8 \n",
      "8 1 6 3 9 5 7 4 2 \n",
      "5 4 7 1 6 2 8 3 9 \n",
      "2 9 3 4 7 8 6 5 1 \n",
      "7 5 4 9 2 6 1 8 3 \n",
      "9 8 1 5 4 3 2 6 7 \n",
      "3 6 2 7 1 5 8 9 4 \n",
      "Invalidity in column, block\n"
     ]
    }
   ],
   "metadata": {}
  }
 ],
 "metadata": {
  "orig_nbformat": 4,
  "language_info": {
   "name": "python",
   "version": "3.9.6",
   "mimetype": "text/x-python",
   "codemirror_mode": {
    "name": "ipython",
    "version": 3
   },
   "pygments_lexer": "ipython3",
   "nbconvert_exporter": "python",
   "file_extension": ".py"
  },
  "kernelspec": {
   "name": "python3",
   "display_name": "Python 3.9.6 64-bit"
  },
  "interpreter": {
   "hash": "b0fa6594d8f4cbf19f97940f81e996739fb7646882a419484c72d19e05852a7e"
  }
 },
 "nbformat": 4,
 "nbformat_minor": 2
}